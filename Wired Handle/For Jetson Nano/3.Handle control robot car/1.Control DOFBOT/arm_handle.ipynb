{
 "cells": [
  {
   "cell_type": "markdown",
   "metadata": {},
   "source": [
    "# 远程手柄遥控\n",
    "在本例中，我们将使用连接到web浏览器机器的gamepad控制器远程控制机械臂。"
   ]
  },
  {
   "cell_type": "markdown",
   "metadata": {},
   "source": [
    "### 创建手柄控制器\n",
    "我们要做的第一件事是创建一个' Controller'widget的实例，我们将使用它来驱动我们的Jetbot。\n",
    "“Controller”小部件接受一个“index”参数，该参数指定控制器的数量。如果你有多个控制器，或者一些游戏手柄以多个控制器的形式出现，这是非常有用的。想要正确的使用你的手柄来控制\n",
    "机械臂你得:\n",
    "1. 打开[http://html5gamepad.com](http://html5gamepad.com)此网页.  \n",
    "2. 按下你正在使用的手柄的按键\n",
    "3. 记住当你按下按键后弹出的相应的索引号\n",
    "\n",
    "接下来，我们将使用该索引创建并显示控制器。"
   ]
  },
  {
   "cell_type": "code",
   "execution_count": 1,
   "metadata": {},
   "outputs": [
    {
     "data": {
      "application/vnd.jupyter.widget-view+json": {
       "model_id": "018d893b8bd54b4f939d3c503619fe3c",
       "version_major": 2,
       "version_minor": 0
      },
      "text/plain": [
       "Controller()"
      ]
     },
     "metadata": {},
     "output_type": "display_data"
    }
   ],
   "source": [
    "import ipywidgets.widgets as widgets\n",
    "controller = widgets.Controller(index=0)  #用你刚测试过正在使用的控制器的索引号替代\n",
    "display(controller)"
   ]
  },
  {
   "cell_type": "markdown",
   "metadata": {},
   "source": [
    "相关模块导入"
   ]
  },
  {
   "cell_type": "code",
   "execution_count": 2,
   "metadata": {},
   "outputs": [],
   "source": [
    "#函数库路径导入\n",
    "import threading\n",
    "import time\n",
    "# 线程功能操作库\n",
    "import inspect\n",
    "import ctypes\n",
    "# 导入机械臂对象\n",
    "from Arm_Lib import Arm_Device\n",
    "Arm = Arm_Device()"
   ]
  },
  {
   "cell_type": "markdown",
   "metadata": {},
   "source": [
    "创建主动停止进程的方法"
   ]
  },
  {
   "cell_type": "code",
   "execution_count": 3,
   "metadata": {},
   "outputs": [],
   "source": [
    "def _async_raise(tid, exctype):\n",
    "    \"\"\"raises the exception, performs cleanup if needed\"\"\"\n",
    "    tid = ctypes.c_long(tid)\n",
    "    if not inspect.isclass(exctype):\n",
    "        exctype = type(exctype)\n",
    "    res = ctypes.pythonapi.PyThreadState_SetAsyncExc(tid, ctypes.py_object(exctype))\n",
    "    if res == 0:\n",
    "        raise ValueError(\"invalid thread id\")\n",
    "    elif res != 1:\n",
    "        # \"\"\"if it returns a number greater than one, you're in trouble,\n",
    "        # and you should call it again with exc=NULL to revert the effect\"\"\"\n",
    "        ctypes.pythonapi.PyThreadState_SetAsyncExc(tid, None)\n",
    "        \n",
    "def stop_thread(thread):\n",
    "    _async_raise(thread.ident, SystemExit)"
   ]
  },
  {
   "cell_type": "markdown",
   "metadata": {},
   "source": [
    "# 创建手柄遥杆控制机械臂运动的方法  \n",
    "## 如果将手柄的模拟模式打开，即红灯亮起时，左边的方向键则不可以用，请使用左右摇杆和LR两边的键来控制机械臂。\n",
    "\n",
    "## 程序功能: \n",
    "1. 左边摇杆和方向键控制一号和二号舵机，其中左右方向控制1号舵机左右运动，上下方向控制2号舵机前后运动。 \n",
    "2. 右边摇杆和数字键控制五号和六号舵机，其中左右方向控制5号舵机左右翻转，上下方向控制6号舵机夹子夹紧和放松。\n",
    "3. L1和L2控制3号舵机向前或者向后运行。\n",
    "4. R1和R2控制4号舵机向前或者向后运行。\n",
    "5. 按下SELECT键将机械臂所有舵机角度都设置为90度  \n"
   ]
  },
  {
   "cell_type": "code",
   "execution_count": 4,
   "metadata": {},
   "outputs": [],
   "source": [
    "def Arm_Handle():\n",
    "    s_time = 500\n",
    "    s_step = 1\n",
    "    angle_1 = angle_2 = angle_3 = angle_4 =  angle_5 = angle_6 = 90\n",
    "    while 1:\n",
    "        #因为摇杆手柄个别差异,所有在遥杆复位值不一定是零，所以需要以0.1作为过滤，避免误操作。\n",
    "        # 2号舵机，A1上负下正\n",
    "        if controller.axes[1].value <= 0.1 and controller.axes[1].value >= -0.1:\n",
    "            time.sleep(.000001)\n",
    "        else:\n",
    "            if controller.axes[1].value > 0.1:\n",
    "                angle_2 += s_step\n",
    "            else:\n",
    "                angle_2 -= s_step\n",
    "            if angle_2 > 180:\n",
    "                angle_2 = 180\n",
    "            elif angle_2 < 0:\n",
    "                angle_2 = 0\n",
    "            Arm.Arm_serial_servo_write(2, angle_2, s_time)\n",
    "            time.sleep(0.01)\n",
    "\n",
    "        # 1号舵机，A0左负有正\n",
    "        if (controller.axes[0].value <= 0.1 and controller.axes[0].value >= -0.1):\n",
    "                time.sleep(.000001)\n",
    "        else:\n",
    "            if controller.axes[0].value > 0.1:\n",
    "                angle_1 -= s_step\n",
    "            else:\n",
    "                angle_1 += s_step\n",
    "                \n",
    "            if angle_1 > 180:\n",
    "                angle_1 = 180\n",
    "            elif angle_1 < 0:\n",
    "                angle_1 = 0\n",
    "            Arm.Arm_serial_servo_write(1, angle_1, s_time)\n",
    "            time.sleep(0.01)\n",
    "\n",
    "        # 6号舵机，NUM1=B0,NUM3=B2, A2上负下正\n",
    "        if controller.buttons[0].value == True:\n",
    "            angle_6 += s_step\n",
    "            if angle_6 > 180:\n",
    "                angle_6 = 180\n",
    "            elif angle_6 < 0:\n",
    "                angle_6 = 0\n",
    "            Arm.Arm_serial_servo_write(6, angle_6, s_time)\n",
    "            time.sleep(0.01)\n",
    "        elif controller.buttons[2].value == True:\n",
    "            angle_6 -= s_step\n",
    "            if angle_6 > 180:\n",
    "                angle_6 = 180\n",
    "            elif angle_6 < 0:\n",
    "                angle_6 = 0\n",
    "            Arm.Arm_serial_servo_write(6, angle_6, s_time)\n",
    "            time.sleep(0.01)\n",
    "        elif controller.axes[2].value > 0.5:\n",
    "            angle_6 -= s_step\n",
    "            if angle_6 > 180:\n",
    "                angle_6 = 180\n",
    "            elif angle_6 < 0:\n",
    "                angle_6 = 0\n",
    "            Arm.Arm_serial_servo_write(6, angle_6, s_time)\n",
    "            time.sleep(0.01)\n",
    "        elif controller.axes[2].value < -0.5:\n",
    "            angle_6 += s_step\n",
    "            if angle_6 > 180:\n",
    "                angle_6 = 180\n",
    "            elif angle_6 < 0:\n",
    "                angle_6 = 0\n",
    "            Arm.Arm_serial_servo_write(6, angle_6, s_time)\n",
    "            time.sleep(0.01)\n",
    "\n",
    "        # 5号舵机，NUM2=B1,NUM4=B3, A5左负有正    \n",
    "        if controller.buttons[1].value == True:\n",
    "            angle_5 += s_step\n",
    "            if angle_5 > 180:\n",
    "                angle_5 = 180\n",
    "            elif angle_5 < 0:\n",
    "                angle_5 = 0\n",
    "            Arm.Arm_serial_servo_write(5, angle_5, s_time)\n",
    "            time.sleep(0.01)\n",
    "        elif controller.buttons[3].value == True:\n",
    "            angle_5 -= s_step\n",
    "            if angle_5 > 180:\n",
    "                angle_5 = 180\n",
    "            elif angle_5 < 0:\n",
    "                angle_5 = 0\n",
    "            Arm.Arm_serial_servo_write(5, angle_5, s_time)  \n",
    "            time.sleep(0.01)\n",
    "        elif controller.axes[5].value > 0.5:\n",
    "            angle_5 += s_step\n",
    "            if angle_5 > 180:\n",
    "                angle_5 = 180\n",
    "            elif angle_5 < 0:\n",
    "                angle_5 = 0\n",
    "            Arm.Arm_serial_servo_write(5, angle_5, s_time)\n",
    "            time.sleep(0.01)\n",
    "        elif controller.axes[5].value < -0.5:\n",
    "            angle_5 -= s_step\n",
    "            if angle_5 > 180:\n",
    "                angle_5 = 180\n",
    "            elif angle_5 < 0:\n",
    "                angle_5 = 0\n",
    "            Arm.Arm_serial_servo_write(5, angle_5, s_time)  \n",
    "            time.sleep(0.01)\n",
    "\n",
    "\n",
    "        # 4号舵机，R1=B5,R2=B7   \n",
    "        if controller.buttons[5].value == True:\n",
    "            angle_4 -= s_step\n",
    "            if angle_4 > 180:\n",
    "                angle_4 = 180\n",
    "            elif angle_4 < 0:\n",
    "                angle_4 = 0\n",
    "            Arm.Arm_serial_servo_write(4, angle_4, s_time)\n",
    "            time.sleep(0.01)\n",
    "        elif controller.buttons[7].value == True:\n",
    "            angle_4 += s_step\n",
    "            if angle_4 > 180:\n",
    "                angle_4 = 180\n",
    "            elif angle_4 < 0:\n",
    "                angle_4 = 0\n",
    "            Arm.Arm_serial_servo_write(4, angle_4, s_time)  \n",
    "            time.sleep(0.01)\n",
    "\n",
    "        # 3号舵机，L1=B4,L2=B6   \n",
    "        if controller.buttons[4].value == True:\n",
    "            angle_3 -= s_step\n",
    "            if angle_3 > 180:\n",
    "                angle_3 = 180\n",
    "            elif angle_3 < 0:\n",
    "                angle_3 = 0\n",
    "            Arm.Arm_serial_servo_write(3, angle_3, s_time)\n",
    "            time.sleep(0.01)\n",
    "        elif controller.buttons[6].value == True:\n",
    "            angle_3 += s_step\n",
    "            if angle_3 > 180:\n",
    "                angle_3 = 180\n",
    "            elif angle_3 < 0:\n",
    "                angle_3 = 0\n",
    "            Arm.Arm_serial_servo_write(3, angle_3, s_time)  \n",
    "            time.sleep(0.01)\n",
    "        \n",
    "        # 按下选择键B8,让机械臂的舵机都设置到90度\n",
    "        if controller.buttons[8].value == True:\n",
    "            angle_1 = angle_2 = angle_3 = angle_4 = angle_5 = angle_6 = 90\n",
    "            Arm.Arm_serial_servo_write6(90, 90, 90, 90, 90, 90, 1000)\n",
    "            time.sleep(1)\n",
    "            "
   ]
  },
  {
   "cell_type": "markdown",
   "metadata": {},
   "source": [
    "通过运行下面单元格代码开启手柄实时控制机械臂的进程"
   ]
  },
  {
   "cell_type": "code",
   "execution_count": 5,
   "metadata": {},
   "outputs": [],
   "source": [
    "thread2 = threading.Thread(target=Arm_Handle)\n",
    "thread2.setDaemon(True)\n",
    "thread2.start()"
   ]
  },
  {
   "cell_type": "markdown",
   "metadata": {},
   "source": [
    "通过运行下面单元格代码结束手柄进程，如果出现进程启动或者结束失败的情况，请重新start一下kernel，再重头运行。"
   ]
  },
  {
   "cell_type": "code",
   "execution_count": 6,
   "metadata": {},
   "outputs": [],
   "source": [
    "stop_thread(thread2)"
   ]
  },
  {
   "cell_type": "code",
   "execution_count": null,
   "metadata": {},
   "outputs": [],
   "source": []
  }
 ],
 "metadata": {
  "kernelspec": {
   "display_name": "Python 3",
   "language": "python",
   "name": "python3"
  },
  "language_info": {
   "codemirror_mode": {
    "name": "ipython",
    "version": 3
   },
   "file_extension": ".py",
   "mimetype": "text/x-python",
   "name": "python",
   "nbconvert_exporter": "python",
   "pygments_lexer": "ipython3",
   "version": "3.6.9"
  }
 },
 "nbformat": 4,
 "nbformat_minor": 4
}
